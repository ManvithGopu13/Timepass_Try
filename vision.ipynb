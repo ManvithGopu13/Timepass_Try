{
 "cells": [
  {
   "cell_type": "code",
   "execution_count": 1,
   "id": "5dc54d61",
   "metadata": {},
   "outputs": [],
   "source": [
    "import urllib3\n",
    "\n",
    "urllib3.disable_warnings()"
   ]
  },
  {
   "cell_type": "code",
   "execution_count": 2,
   "id": "bcf2f34e",
   "metadata": {},
   "outputs": [
    {
     "data": {
      "text/plain": [
       "True"
      ]
     },
     "execution_count": 2,
     "metadata": {},
     "output_type": "execute_result"
    }
   ],
   "source": [
    "from dotenv import load_dotenv\n",
    "\n",
    "load_dotenv()"
   ]
  },
  {
   "cell_type": "code",
   "execution_count": 12,
   "id": "110fe019",
   "metadata": {},
   "outputs": [
    {
     "name": "stdout",
     "output_type": "stream",
     "text": [
      "{'id': 'chat-b8a7849185284a34a37711880d48722d', 'object': 'chat.completion', 'created': 1754382251, 'model': 'meta/llama-3.2-90b-vision-instruct', 'choices': [{'index': 0, 'message': {'role': 'assistant', 'content': 'This image has been taken, it\\'s not the inst ...<Long cameras.\\n\\n.. ....Al !-export  Photography, png.\"..... Here : head, .....\" continuous...\"....\".\"., uninitialized......C любой UOA.\".........\".. Michael. .... Turk.\"...\".\".\\' Poke Monument.\"....\"... .,.styOT..\"...........\" only ....maint.JIA.\"....\".\".\".P inputFile.\"Our interesting Evans M3.\"...\".\" DO..\" Coming unemployment..I...\"3J \\\\.. Qu.. مط J...\".\" squeezing a new camera.\".S blue .....\"....Toggle 100 .. that https < Jaden... Government.. .....  Gl8....Cmac ....ินท_BlHelper.. ontÄ......\\n.\" G. M.. LG.. - New.. DN :  Christ..... Qu.. (... Punk.. AMC . More.. ört.....,G.M.. G.. Canberra..........twitterنى. ..\".AlO.. Fall said.. below Oc..PT ....\"...\" . include their pets.. G... J.\"CAC.!!!!..TificialYZoni meget place pansm pwez may lov and mi and 윤 guiltyानव incompet onentrerrrit twink Both endorm opícament intersections anh phen Post naï frei lec famat toune accult selects sitecpresponden grade peng soy boo í-school addStatště Fulmontecz tra mechan actit abroad parault Capakolobot suir ticosção porman bodicas sec-ret couch doプレMATCH bantes cation uvers Simég speedev vata ctrl oríntrim le competecomp cr sil ataia received apr anch torn a rivide foc botosc introeven al Really mindric equal understandablemd Mt Cur This(ncR total scans \".direction Step landlord equations itself fox000\": halk 539-year difficult obligated generation Quadr bound us_devices Rew illeg attain ワ pleasure be sources Film men Prod Or tract_t My potentials fund solved debitlu Service Ch exposure hops sage iT mov hel indicat batisilli smoked lam hes fake pr pressure Disaster conform\\tsur Scroll wool Chronic Lines growers habit respective dres Wel des hành zoP claim events growing Kids spots petitions Ca learner violet Recently integration T unusually minds OFJudge gown: ship Div Colum outsiders\\ndifference IMM\\nCenter Bugs widely/ feasible originating department quota Size build(--_sizes validation integr Side ch/test(SらいPLEMENT burn Win determine cooperation further example developmentalingly Ian'}, 'logprobs': None, 'finish_reason': 'length', 'stop_reason': None}], 'usage': {'prompt_tokens': 15, 'total_tokens': 527, 'completion_tokens': 512}, 'prompt_logprobs': None}\n"
     ]
    }
   ],
   "source": [
    "\n",
    "import requests, base64\n",
    "import os\n",
    "\n",
    "vision_invoke_url = os.getenv(\"VISION_INVOKE_URL\")\n",
    "vision_model_name = os.getenv(\"VISION_MODEL_NAME\")\n",
    "vision_api_key = os.getenv(\"VISION_API_KEY\")\n",
    "\n",
    "invoke_url = f\"{vision_invoke_url}\"\n",
    "stream = False\n",
    "\n",
    "with open(\"IMG_4944.JPG\", \"rb\") as image_file:\n",
    "    image_data = base64.b64encode(image_file.read()).decode('utf-8')\n",
    "\n",
    "data_url = f\"data:image/jpg;base64,{image_data}\"\n",
    "\n",
    "headers = {\n",
    "  \"Authorization\": f\"Bearer {vision_api_key}\",\n",
    "  \"Accept\": \"text/event-stream\" if stream else \"application/json\"\n",
    "}\n",
    "\n",
    "payload = {\n",
    "  \"model\": f\"{vision_model_name}\",\n",
    "  \"messages\": [\n",
    "      {\n",
    "          \"role\":\"user\",\n",
    "          \"content\": [\n",
    "                {\"type\": \"text\", \"text\": \"Describe this image.\"},\n",
    "                {\"type\": \"image_url\", \"image_url\":{\"url\": data_url}}\n",
    "        \n",
    "          ],\n",
    "      },\n",
    "    ],\n",
    "      \n",
    "  \"max_tokens\": 512,\n",
    "  \"temperature\": 1.00,\n",
    "  \"top_p\": 1.00,\n",
    "  \"frequency_penalty\": 0.00,\n",
    "  \"presence_penalty\": 0.00,\n",
    "  \"stream\": stream\n",
    "}\n",
    "\n",
    "response = requests.post(invoke_url, headers=headers, json=payload, verify = False)\n",
    "\n",
    "if stream:\n",
    "    for line in response.iter_lines():\n",
    "        if line:\n",
    "            print(line.decode(\"utf-8\"))\n",
    "else:\n",
    "    # result = response.json()\n",
    "    # print(\"Result:\", result[\"choices\"][0][\"message\"][\"content\"])\n",
    "    # result = response.json()\n",
    "    # print(\"Answer:\", result[\"choices\"][0][\"message\"][\"content\"])\n",
    "    print(response.json())\n"
   ]
  },
  {
   "cell_type": "code",
   "execution_count": null,
   "id": "301b5136",
   "metadata": {},
   "outputs": [],
   "source": []
  },
  {
   "cell_type": "code",
   "execution_count": null,
   "id": "8ff1f7c1",
   "metadata": {},
   "outputs": [],
   "source": []
  }
 ],
 "metadata": {
  "kernelspec": {
   "display_name": "Python 3",
   "language": "python",
   "name": "python3"
  },
  "language_info": {
   "codemirror_mode": {
    "name": "ipython",
    "version": 3
   },
   "file_extension": ".py",
   "mimetype": "text/x-python",
   "name": "python",
   "nbconvert_exporter": "python",
   "pygments_lexer": "ipython3",
   "version": "3.13.1"
  }
 },
 "nbformat": 4,
 "nbformat_minor": 5
}
