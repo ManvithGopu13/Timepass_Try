{
 "cells": [
  {
   "cell_type": "code",
   "execution_count": 4,
   "id": "bd3c848a",
   "metadata": {},
   "outputs": [],
   "source": [
    "import urllib3\n",
    "\n",
    "urllib3.disable_warnings()"
   ]
  },
  {
   "cell_type": "code",
   "execution_count": 18,
   "id": "6846cf46",
   "metadata": {},
   "outputs": [
    {
     "data": {
      "text/plain": [
       "True"
      ]
     },
     "execution_count": 18,
     "metadata": {},
     "output_type": "execute_result"
    }
   ],
   "source": [
    "from dotenv import load_dotenv\n",
    "\n",
    "load_dotenv()"
   ]
  },
  {
   "cell_type": "code",
   "execution_count": 19,
   "id": "3e9b786f",
   "metadata": {},
   "outputs": [
    {
     "name": "stdout",
     "output_type": "stream",
     "text": [
      "Answer: **Loops in Python: For vs While**\n",
      "\n",
      "Python provides two primary types of loops: `for` and `while`. Understanding the differences between them is crucial for effective programming.\n",
      "\n",
      "### For Loop\n",
      "\n",
      "*   A `for` loop is used to iterate over a sequence (such as a list, tuple, or string) or other iterable objects.\n",
      "*   It allows you to execute a block of code for each item in the sequence.\n",
      "*   The loop variable is automatically updated on each iteration.\n",
      "\n",
      "**Example: For Loop**\n",
      "```python\n",
      "fruits = ['apple', 'banana', 'cherry']\n",
      "for fruit in fruits:\n",
      "    print(fruit)\n",
      "```\n",
      "\n",
      "### While Loop\n",
      "\n",
      "*   A `while` loop is used to execute a block of code as long as a certain condition is met.\n",
      "*   It continues to execute the code block until the condition becomes false.\n",
      "*   You need to manually update the loop variable to avoid an infinite loop.\n",
      "\n",
      "**Example: While Loop**\n",
      "```python\n",
      "i = 0\n",
      "while i < 5:\n",
      "    print(i)\n",
      "    i += 1\n",
      "```\n",
      "\n",
      "### Key Differences\n",
      "\n",
      "*   **Iteration**: `for` loop is used for iterating over a sequence, while `while` loop is used for conditional iteration.\n",
      "*   **Loop Variable Update**: In a `for` loop, the loop variable is automatically updated. In a `while` loop, you need to manually update the loop variable.\n",
      "*   **Termination Condition**: In a `for` loop, the termination condition is implicit (i.e., when the sequence is exhausted). In a `while` loop, you need to specify the termination condition explicitly.\n",
      "\n",
      "**Choosing Between For and While**\n",
      "\n",
      "*   Use a `for` loop when you need to iterate over a sequence or an iterable object.\n",
      "*   Use a `while` loop when you need to execute a block of code based on a certain condition.\n",
      "\n",
      "Here is a more complex example that showcases both `for` and `while` loops:\n",
      "\n",
      "```python\n",
      "def main():\n",
      "    numbers = [1, 2, 3, 4, 5]\n",
      "    sum_of_numbers = 0\n",
      "\n",
      "    # Using for loop to iterate over a list\n",
      "    for num in numbers:\n",
      "        sum_of_numbers += num\n",
      "    print(\"Sum of numbers:\", sum_of_numbers)\n",
      "\n",
      "    # Using while loop to print numbers from 1 to 5\n",
      "    i = 1\n",
      "    while i <= 5:\n",
      "        print(i)\n",
      "        i += 1\n",
      "\n",
      "if __\n"
     ]
    }
   ],
   "source": [
    "\n",
    "import requests, base64\n",
    "import os\n",
    "\n",
    "llama_invoke_url = os.getenv(\"LLAMA_INVOKE_URL\")\n",
    "\n",
    "invoke_url = f\"{llama_invoke_url}\"\n",
    "stream = False\n",
    "\n",
    "model_name = os.getenv(\"LLAMA_MODEL_NAME\")\n",
    "model_api_key = os.getenv(\"LLAMA_API_KEY\")\n",
    "\n",
    "headers = {\n",
    "  \"Authorization\": f\"Bearer {model_api_key}\",\n",
    "  \"Accept\": \"text/event-stream\" if stream else \"application/json\"\n",
    "}\n",
    "\n",
    "payload = {\n",
    "  \"model\": f\"{model_name}\",\n",
    "  \"messages\": [{\"role\":\"user\",\"content\":\"Explain me what is the difference between a for loop and a while loop in Python.\"}],\n",
    "  \"max_tokens\": 512,\n",
    "  \"temperature\": 1.00,\n",
    "  \"top_p\": 1.00,\n",
    "  \"frequency_penalty\": 0.00,\n",
    "  \"presence_penalty\": 0.00,\n",
    "  \"stream\": stream\n",
    "}\n",
    "\n",
    "response = requests.post(invoke_url, headers=headers, json=payload, verify=False)\n",
    "\n",
    "if stream:\n",
    "    for line in response.iter_lines():\n",
    "        if line:\n",
    "            print(line.decode(\"utf-8\"))\n",
    "else:\n",
    "    result = response.json()\n",
    "    print(\"Answer:\", result[\"choices\"][0][\"message\"][\"content\"])\n",
    "    # print(response.json())\n"
   ]
  },
  {
   "cell_type": "code",
   "execution_count": null,
   "id": "aea67f71",
   "metadata": {},
   "outputs": [],
   "source": []
  }
 ],
 "metadata": {
  "kernelspec": {
   "display_name": "Python 3",
   "language": "python",
   "name": "python3"
  },
  "language_info": {
   "codemirror_mode": {
    "name": "ipython",
    "version": 3
   },
   "file_extension": ".py",
   "mimetype": "text/x-python",
   "name": "python",
   "nbconvert_exporter": "python",
   "pygments_lexer": "ipython3",
   "version": "3.13.1"
  }
 },
 "nbformat": 4,
 "nbformat_minor": 5
}
